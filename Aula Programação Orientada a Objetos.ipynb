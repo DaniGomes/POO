{
 "cells": [
  {
   "cell_type": "markdown",
   "metadata": {},
   "source": [
    "### Exemplo Básico - Cachorro"
   ]
  },
  {
   "cell_type": "code",
   "execution_count": 1,
   "metadata": {},
   "outputs": [],
   "source": [
    "class cachorro:\n",
    "    cor = ''\n",
    "    raca = ''\n",
    "    pelo = ''\n",
    "    orelha = ''\n",
    "    peso = 0\n",
    "    __humor = 5\n",
    "    __fome = 5\n",
    "    __energia = 5\n",
    "    \n",
    "    def __init__(self, cor, raca, pelo, orelha, peso):\n",
    "        self.cor = cor\n",
    "        self.raca = raca\n",
    "        self.pelo = pelo\n",
    "        self.orelha = orelha\n",
    "        self.peso = peso\n",
    "    \n",
    "    def latir():\n",
    "        print('Au au!')\n",
    "    \n",
    "    def deitar(self):\n",
    "        print('🐶')\n",
    "\n",
    "    def ficar_de_pe(self):\n",
    "        print('🐕')\n",
    "    \n",
    "    def buscar_bola(self):\n",
    "        c = '..........'\n",
    "        for i in range(10, -4, -2):\n",
    "            print('⚽'+c+'🐕')\n",
    "            c = c[0:i]\n",
    "            \n",
    "    def ver_cachorro(self):\n",
    "        print('Cor: ', self.cor)\n",
    "        print('Raça: ', self.raca)\n",
    "        print('Pelo: ', self.pelo)\n",
    "        print('Orelha: ', self.orelha)\n",
    "        print('Peso: ', self.peso, ' kg')\n",
    "        \n",
    "    def ver_necessidades(self):\n",
    "        print('Fome: ', self.__fome)\n",
    "        print('Energia: ', self.__energia)\n",
    "        print('Humor: ', self.__humor)\n",
    "        \n",
    "    def alimentar(self):\n",
    "        self.__fome -= 1\n",
    "        self.__humor += 1\n",
    "        \n",
    "    def dormir(self):\n",
    "        self.__energia += 1\n",
    "        self.__fome += 1\n",
    "        \n",
    "    def brincar(self):\n",
    "        self.__humor += 1\n",
    "        self.__energia -= 1        "
   ]
  },
  {
   "cell_type": "code",
   "execution_count": 2,
   "metadata": {},
   "outputs": [],
   "source": [
    "Scooby_doo = cachorro('marrom', 'Dogue Alemão', 'curto', 'em_pe', 45)"
   ]
  },
  {
   "cell_type": "code",
   "execution_count": 3,
   "metadata": {},
   "outputs": [],
   "source": [
    "Scooby_doo.peso = 47"
   ]
  },
  {
   "cell_type": "code",
   "execution_count": 4,
   "metadata": {},
   "outputs": [
    {
     "data": {
      "text/plain": [
       "47"
      ]
     },
     "execution_count": 4,
     "metadata": {},
     "output_type": "execute_result"
    }
   ],
   "source": [
    "Scooby_doo.peso"
   ]
  },
  {
   "cell_type": "code",
   "execution_count": 5,
   "metadata": {},
   "outputs": [
    {
     "name": "stdout",
     "output_type": "stream",
     "text": [
      "Au au!\n"
     ]
    }
   ],
   "source": [
    "cachorro.latir()"
   ]
  },
  {
   "cell_type": "code",
   "execution_count": 6,
   "metadata": {},
   "outputs": [
    {
     "name": "stdout",
     "output_type": "stream",
     "text": [
      "⚽..........🐕\n",
      "⚽..........🐕\n",
      "⚽........🐕\n",
      "⚽......🐕\n",
      "⚽....🐕\n",
      "⚽..🐕\n",
      "⚽🐕\n"
     ]
    }
   ],
   "source": [
    "Scooby_doo.buscar_bola()"
   ]
  },
  {
   "cell_type": "code",
   "execution_count": 7,
   "metadata": {},
   "outputs": [
    {
     "name": "stdout",
     "output_type": "stream",
     "text": [
      "Cor:  marrom\n",
      "Raça:  Dogue Alemão\n",
      "Pelo:  curto\n",
      "Orelha:  em_pe\n",
      "Peso:  47  kg\n",
      "---------------------------\n",
      "Cor:  marrom\n",
      "Raça:  Dogue Alemão\n",
      "Pelo:  curto\n",
      "Orelha:  em_pe\n",
      "Peso:  47  kg\n"
     ]
    }
   ],
   "source": [
    "# Duas formas de acesso aos métodos\n",
    "\n",
    "cachorro.ver_cachorro(Scooby_doo)\n",
    "\n",
    "print('---------------------------')\n",
    "\n",
    "Scooby_doo.ver_cachorro()"
   ]
  },
  {
   "cell_type": "markdown",
   "metadata": {},
   "source": [
    "### Exemplo de comunicação entre objetos - Conta Bancária"
   ]
  },
  {
   "cell_type": "code",
   "execution_count": 8,
   "metadata": {},
   "outputs": [],
   "source": [
    "class conta:\n",
    "    \n",
    "    agencia = '0000'\n",
    "    numero = '00000'\n",
    "    saldo = 0\n",
    "    titular = ''\n",
    "    \n",
    "    def __init__(self, agencia, numero, titular):\n",
    "        self.agencia = agencia\n",
    "        self.numero = numero\n",
    "        self.titular = titular\n",
    "        self.saldo = 0\n",
    "        \n",
    "    def sacar(self, valor):\n",
    "        if valor > self.saldo:\n",
    "            print('Não possui saldo suficiente! Tente outro valor.')\n",
    "            return False\n",
    "        else:\n",
    "            self.saldo = self.saldo - valor\n",
    "            print('Saque realizado com sucesso!')\n",
    "            return True\n",
    "            \n",
    "    def depositar(self, valor):\n",
    "        self.saldo = self.saldo + valor\n",
    "        print('Depósito realizado com sucesso!')\n",
    "        \n",
    "    def checar_saldo(self):\n",
    "        print(self.titular, ', seu saldo é de ', self.saldo, ' reais')\n",
    "        \n",
    "    def trocar_titular(self, novo):\n",
    "        antigo = self.titular\n",
    "        self.titular = novo\n",
    "        print('Titular da conta ', antigo, ' substituído por ', novo)\n",
    "        \n",
    "    def transferencia(self, conta, valor):\n",
    "        if self.sacar(valor):\n",
    "            conta.depositar(valor)\n",
    "            print(valor, ' reais foram transferidos para ', conta.get_titular())\n",
    "        \n",
    "    # Encapsulamento\n",
    "    def get_agencia(self):\n",
    "        return self.agencia\n",
    "    \n",
    "    def get_numero(self):\n",
    "        return self.numero\n",
    "        \n",
    "    def get_titular(self):\n",
    "        return self.titular"
   ]
  },
  {
   "cell_type": "code",
   "execution_count": 9,
   "metadata": {},
   "outputs": [],
   "source": [
    "conta1 = conta('6754', '45890', 'Maria Clara')\n",
    "conta2 = conta('0299', '34564', 'João Márcio')"
   ]
  },
  {
   "cell_type": "code",
   "execution_count": 10,
   "metadata": {},
   "outputs": [
    {
     "name": "stdout",
     "output_type": "stream",
     "text": [
      "Maria Clara , seu saldo é de  0  reais\n",
      "João Márcio , seu saldo é de  0  reais\n"
     ]
    }
   ],
   "source": [
    "conta1.checar_saldo()\n",
    "conta2.checar_saldo()"
   ]
  },
  {
   "cell_type": "code",
   "execution_count": 11,
   "metadata": {},
   "outputs": [
    {
     "name": "stdout",
     "output_type": "stream",
     "text": [
      "Depósito realizado com sucesso!\n"
     ]
    }
   ],
   "source": [
    "conta1.depositar(500)"
   ]
  },
  {
   "cell_type": "code",
   "execution_count": 12,
   "metadata": {},
   "outputs": [
    {
     "name": "stdout",
     "output_type": "stream",
     "text": [
      "Maria Clara , seu saldo é de  500  reais\n"
     ]
    }
   ],
   "source": [
    "conta1.checar_saldo()"
   ]
  },
  {
   "cell_type": "code",
   "execution_count": 13,
   "metadata": {},
   "outputs": [
    {
     "name": "stdout",
     "output_type": "stream",
     "text": [
      "Saque realizado com sucesso!\n"
     ]
    },
    {
     "data": {
      "text/plain": [
       "True"
      ]
     },
     "execution_count": 13,
     "metadata": {},
     "output_type": "execute_result"
    }
   ],
   "source": [
    "conta1.sacar(35)"
   ]
  },
  {
   "cell_type": "code",
   "execution_count": 14,
   "metadata": {},
   "outputs": [
    {
     "name": "stdout",
     "output_type": "stream",
     "text": [
      "Maria Clara , seu saldo é de  465  reais\n",
      "João Márcio , seu saldo é de  0  reais\n"
     ]
    }
   ],
   "source": [
    "conta1.checar_saldo()\n",
    "conta2.checar_saldo()"
   ]
  },
  {
   "cell_type": "code",
   "execution_count": 15,
   "metadata": {},
   "outputs": [
    {
     "name": "stdout",
     "output_type": "stream",
     "text": [
      "Saque realizado com sucesso!\n",
      "Depósito realizado com sucesso!\n",
      "100  reais foram transferidos para  João Márcio\n"
     ]
    }
   ],
   "source": [
    "conta1.transferencia(conta2, 100)"
   ]
  },
  {
   "cell_type": "code",
   "execution_count": 16,
   "metadata": {},
   "outputs": [
    {
     "name": "stdout",
     "output_type": "stream",
     "text": [
      "João Márcio , seu saldo é de  100  reais\n"
     ]
    }
   ],
   "source": [
    "conta2.checar_saldo()"
   ]
  },
  {
   "cell_type": "code",
   "execution_count": 17,
   "metadata": {},
   "outputs": [
    {
     "name": "stdout",
     "output_type": "stream",
     "text": [
      "Não possui saldo suficiente! Tente outro valor.\n"
     ]
    }
   ],
   "source": [
    "conta2.transferencia(conta1, 200)"
   ]
  },
  {
   "cell_type": "code",
   "execution_count": 18,
   "metadata": {},
   "outputs": [
    {
     "name": "stdout",
     "output_type": "stream",
     "text": [
      "Titular da conta  João Márcio  substituído por  Paulo Magalhães\n"
     ]
    }
   ],
   "source": [
    "conta2.trocar_titular('Paulo Magalhães')"
   ]
  },
  {
   "cell_type": "code",
   "execution_count": 19,
   "metadata": {},
   "outputs": [
    {
     "name": "stdout",
     "output_type": "stream",
     "text": [
      "Paulo Magalhães , seu saldo é de  100  reais\n"
     ]
    }
   ],
   "source": [
    "conta2.checar_saldo()"
   ]
  },
  {
   "cell_type": "markdown",
   "metadata": {},
   "source": [
    "### Exemplo objeto que possui outro objeto - Pessoa"
   ]
  },
  {
   "cell_type": "code",
   "execution_count": 20,
   "metadata": {},
   "outputs": [],
   "source": [
    "class pessoa:\n",
    "    nome = ''\n",
    "    endereco = ''\n",
    "    celular = ''\n",
    "    nascimento = ''\n",
    "    sexo = 0                # 0 para feminino e 1 para masculino\n",
    "    cachorros = []\n",
    "    \n",
    "    def __init__(self, nome, sexo, nascimento):\n",
    "        self.nome = nome\n",
    "        self.sexo = sexo\n",
    "        self.nascimento = nascimento\n",
    "        \n",
    "    def add_cachorro(self, cao):\n",
    "        self.cachorros.append(cao)\n",
    "        \n",
    "    def ver_cachorros(self):\n",
    "        for cao in self.cachorros:\n",
    "            cao.ver_cachorro()\n",
    "            print('-----------')\n",
    "    "
   ]
  },
  {
   "cell_type": "code",
   "execution_count": 21,
   "metadata": {},
   "outputs": [],
   "source": [
    "maria = pessoa('Maria', 0, '14/03/2001')\n",
    "maria.add_cachorro(Scooby_doo) # Reutilização de código"
   ]
  },
  {
   "cell_type": "code",
   "execution_count": 22,
   "metadata": {},
   "outputs": [
    {
     "name": "stdout",
     "output_type": "stream",
     "text": [
      "Cor:  marrom\n",
      "Raça:  Dogue Alemão\n",
      "Pelo:  curto\n",
      "Orelha:  em_pe\n",
      "Peso:  47  kg\n",
      "-----------\n"
     ]
    }
   ],
   "source": [
    "maria.ver_cachorros()"
   ]
  },
  {
   "cell_type": "code",
   "execution_count": 23,
   "metadata": {},
   "outputs": [],
   "source": [
    "maria.add_cachorro(cachorro('bege', 'Golden Retriever', 'longo', 'caida', '21'))"
   ]
  },
  {
   "cell_type": "code",
   "execution_count": 24,
   "metadata": {},
   "outputs": [
    {
     "name": "stdout",
     "output_type": "stream",
     "text": [
      "Cor:  marrom\n",
      "Raça:  Dogue Alemão\n",
      "Pelo:  curto\n",
      "Orelha:  em_pe\n",
      "Peso:  47  kg\n",
      "-----------\n",
      "Cor:  bege\n",
      "Raça:  Golden Retriever\n",
      "Pelo:  longo\n",
      "Orelha:  caida\n",
      "Peso:  21  kg\n",
      "-----------\n"
     ]
    }
   ],
   "source": [
    "maria.ver_cachorros()"
   ]
  },
  {
   "cell_type": "code",
   "execution_count": 26,
   "metadata": {},
   "outputs": [
    {
     "name": "stdout",
     "output_type": "stream",
     "text": [
      "Cor:  marrom\n",
      "Raça:  Dogue Alemão\n",
      "Pelo:  curto\n",
      "Orelha:  em_pe\n",
      "Peso:  47  kg\n"
     ]
    }
   ],
   "source": [
    "maria.cachorros[0].ver_cachorro()"
   ]
  },
  {
   "cell_type": "code",
   "execution_count": 27,
   "metadata": {},
   "outputs": [
    {
     "name": "stdout",
     "output_type": "stream",
     "text": [
      "Fome:  5\n",
      "Energia:  5\n",
      "Humor:  5\n"
     ]
    }
   ],
   "source": [
    "maria.cachorros[0].ver_necessidades()"
   ]
  },
  {
   "cell_type": "code",
   "execution_count": 28,
   "metadata": {},
   "outputs": [],
   "source": [
    "maria.cachorros[0].alimentar()"
   ]
  },
  {
   "cell_type": "code",
   "execution_count": 29,
   "metadata": {},
   "outputs": [
    {
     "name": "stdout",
     "output_type": "stream",
     "text": [
      "Fome:  4\n",
      "Energia:  5\n",
      "Humor:  6\n"
     ]
    }
   ],
   "source": [
    "maria.cachorros[0].ver_necessidades()"
   ]
  },
  {
   "cell_type": "code",
   "execution_count": null,
   "metadata": {},
   "outputs": [],
   "source": [
    "maria.cachorros[1].ver_necessidades()"
   ]
  },
  {
   "cell_type": "code",
   "execution_count": null,
   "metadata": {},
   "outputs": [],
   "source": [
    "cachorro.brincar(maria.cachorros[1])"
   ]
  },
  {
   "cell_type": "code",
   "execution_count": null,
   "metadata": {},
   "outputs": [],
   "source": [
    "maria.cachorros[1].ver_necessidades()"
   ]
  },
  {
   "cell_type": "code",
   "execution_count": null,
   "metadata": {},
   "outputs": [],
   "source": []
  }
 ],
 "metadata": {
  "kernelspec": {
   "display_name": "Python 3",
   "language": "python",
   "name": "python3"
  },
  "language_info": {
   "codemirror_mode": {
    "name": "ipython",
    "version": 3
   },
   "file_extension": ".py",
   "mimetype": "text/x-python",
   "name": "python",
   "nbconvert_exporter": "python",
   "pygments_lexer": "ipython3",
   "version": "3.7.3"
  }
 },
 "nbformat": 4,
 "nbformat_minor": 2
}
